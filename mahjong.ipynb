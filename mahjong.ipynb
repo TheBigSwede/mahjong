{
 "cells": [
  {
   "cell_type": "code",
   "execution_count": 6,
   "metadata": {},
   "outputs": [
    {
     "name": "stdout",
     "output_type": "stream",
     "text": [
      "All Japanese Mahjong Tiles:\n",
      "1 Man, 1 Man, 1 Man, 1 Man, 2 Man, 2 Man, 2 Man, 2 Man, 3 Man, 3 Man, 3 Man, 3 Man, 4 Man, 4 Man, 4 Man, 4 Man, 5 Man, 5 Man, 5 Man, 5 Man, 6 Man, 6 Man, 6 Man, 6 Man, 7 Man, 7 Man, 7 Man, 7 Man, 8 Man, 8 Man, 8 Man, 8 Man, 9 Man, 9 Man, 9 Man, 9 Man, 1 Pin, 1 Pin, 1 Pin, 1 Pin, 2 Pin, 2 Pin, 2 Pin, 2 Pin, 3 Pin, 3 Pin, 3 Pin, 3 Pin, 4 Pin, 4 Pin, 4 Pin, 4 Pin, 5 Pin, 5 Pin, 5 Pin, 5 Pin, 6 Pin, 6 Pin, 6 Pin, 6 Pin, 7 Pin, 7 Pin, 7 Pin, 7 Pin, 8 Pin, 8 Pin, 8 Pin, 8 Pin, 9 Pin, 9 Pin, 9 Pin, 9 Pin, 1 Sou, 1 Sou, 1 Sou, 1 Sou, 2 Sou, 2 Sou, 2 Sou, 2 Sou, 3 Sou, 3 Sou, 3 Sou, 3 Sou, 4 Sou, 4 Sou, 4 Sou, 4 Sou, 5 Sou, 5 Sou, 5 Sou, 5 Sou, 6 Sou, 6 Sou, 6 Sou, 6 Sou, 7 Sou, 7 Sou, 7 Sou, 7 Sou, 8 Sou, 8 Sou, 8 Sou, 8 Sou, 9 Sou, 9 Sou, 9 Sou, 9 Sou, None None, None None, None None, None None, None None, None None, None None, None None, None None, None None, None None, None None, None None, None None, None None, None None, None None, None None, None None, None None, None None, None None, None None, None None, None None, None None, None None, None None, \n",
      "Total Tiles: 136\n"
     ]
    }
   ],
   "source": [
    "class Tile():\n",
    "    def __init__(self, suit = None, honor = None, value = None):\n",
    "        self.suit = suit\n",
    "        self.honor = honor\n",
    "        self.value = value\n",
    "\n",
    "    def __str__(self):\n",
    "        if self.honor is None:\n",
    "            return f\"{self.value}{self.suit[0]}\"\n",
    "        else:\n",
    "            return f\"{self.honor[0:2]}\"\n",
    "\n",
    "    def __eq__(self, other):\n",
    "       \n",
    "        # Equality Comparison between two objects\n",
    "        return self.suit == other.suit and self.honor == other.honor and self.value == other.value\n",
    "    \n",
    "    def __lt__(self, other):\n",
    "\n",
    "        if self.honor is None and other.honor is not None:\n",
    "            return True\n",
    "        if self. honor is not None and other.honor is None:\n",
    "            return False\n",
    "        if self.honor is None and other.honor is None:\n",
    "            if self.suit != other.suit:\n",
    "                return suits.index(self.suit) < suits.index(other.suit)\n",
    "            if self.suit == other.suit:\n",
    "                return self.value < other.value\n",
    "        if self.honor is not None and other.honor is not None:\n",
    "            return honors.index(self.honor) < honors.index(other.honor)\n",
    "\n",
    " \n",
    "    def __hash__(self):\n",
    "       \n",
    "        # hash(custom_object)\n",
    "        return hash((self.suit, self.honor, self.value))\n",
    "\n",
    "suits = [\"Man\", \"Pin\", \"Sou\"]\n",
    "honors = [\"East\", \"South\", \"West\", \"North\", \"Red\", \"Green\", \"White\"]\n",
    "\n",
    "def generate_mahjong_tiles():\n",
    "\n",
    "    \n",
    "    tiles = []\n",
    "    \n",
    "    # Generating regular tiles (Man, Pin, and Sou suits)\n",
    "    for suit in suits:\n",
    "        for number in range(1, 10):\n",
    "            tile = Tile(suit=suit,value=number)\n",
    "            tiles += [tile,tile,tile,tile]\n",
    "            \n",
    "    # Generating honor tiles (winds and dragons)\n",
    "    for honor in honors:\n",
    "        tile = Tile(honor=honor)\n",
    "        tiles += [tile,tile,tile,tile]\n",
    "    \n",
    "    return tiles\n",
    "\n",
    "all_tiles = generate_mahjong_tiles()\n",
    "print(\"All Japanese Mahjong Tiles:\")\n",
    "for tile in all_tiles:\n",
    "    print(f\"{tile.value} {tile.suit}\", end=\", \")\n",
    "\n",
    "print(f\"\\nTotal Tiles: {len(all_tiles)}\")\n"
   ]
  },
  {
   "cell_type": "code",
   "execution_count": 7,
   "metadata": {},
   "outputs": [
    {
     "name": "stdout",
     "output_type": "stream",
     "text": [
      "Probability of drawing a specific tile: 0.029\n"
     ]
    }
   ],
   "source": [
    "\"\"\"Probability of drawing a specific tile.\"\"\"\n",
    "\n",
    "live_tiles = all_tiles.count(Tile(suit='Man',value=1))\n",
    "total_tiles = len(all_tiles)\n",
    "\n",
    "p = live_tiles/total_tiles\n",
    "\n",
    "print(f\"Probability of drawing a specific tile: {p:.3f}\")"
   ]
  },
  {
   "cell_type": "code",
   "execution_count": 8,
   "metadata": {},
   "outputs": [
    {
     "name": "stdout",
     "output_type": "stream",
     "text": [
      "1M,1M,1M,1M\n",
      "2M,2M,2M,2M,3M,3M,3M,3M,4M,4M,4M,4M,5M,5M,5M,5M,6M,6M,6M,6M,7M,7M,7M,7M,8M,8M,8M,8M,9M,9M,9M,9M,1P,1P,1P,1P,2P,2P,2P,2P,3P,3P,3P,3P,4P,4P,4P,4P,5P,5P,5P,5P,6P,6P,6P,6P,7P,7P,7P,7P,8P,8P,8P,8P,9P,9P,9P,9P,1S,1S,1S,1S,2S,2S,2S,2S,3S,3S,3S,3S,4S,4S,4S,4S,5S,5S,5S,5S,6S,6S,6S,6S,7S,7S,7S,7S,8S,8S,8S,8S,9S,9S,9S,9S,Ea,Ea,Ea,Ea,So,So,So,So,We,We,We,We,No,No,No,No,Re,Re,Re,Re,Gr,Gr,Gr,Gr,Wh,Wh,Wh,Wh\n"
     ]
    }
   ],
   "source": [
    "import copy\n",
    "\n",
    "def draw_tiles(held_tiles, live_tiles, tiles_to_draw):\n",
    "\n",
    "    for tile in tiles_to_draw:\n",
    "        if tile in live_tiles:\n",
    "            live_tiles.remove(tile)\n",
    "            held_tiles.append(tile)\n",
    "        else:\n",
    "            raise ValueError(f\"Tile \\'{tile}\\' is not available.\")\n",
    "    \n",
    "    return held_tiles\n",
    "\n",
    "held_tiles = []\n",
    "live_tiles = list(all_tiles)\n",
    "\n",
    "tile = Tile(value=1,suit='Man')\n",
    "\n",
    "held_tiles = draw_tiles(held_tiles, live_tiles, [tile,tile,tile,tile])\n",
    "\n",
    "print(*held_tiles,sep=',')\n",
    "print(*live_tiles,sep=',')"
   ]
  },
  {
   "cell_type": "code",
   "execution_count": 9,
   "metadata": {},
   "outputs": [
    {
     "name": "stdout",
     "output_type": "stream",
     "text": [
      "2M 7M 8M 2P 2P 4P 8P 3S 5S 6S 8S Ea We No\n",
      "2M 2M 2M 3M 3M 3M 3M 4M 4M 4M 4M 5M 5M 5M 5M 6M 6M 6M 6M 7M 7M 7M 8M 8M 8M 9M 9M 9M 9M 1P 1P 1P 1P 2P 2P 3P 3P 3P 3P 4P 4P 4P 5P 5P 5P 5P 6P 6P 6P 6P 7P 7P 7P 7P 8P 8P 8P 9P 9P 9P 9P 1S 1S 1S 1S 2S 2S 2S 2S 3S 3S 3S 4S 4S 4S 4S 5S 5S 5S 6S 6S 6S 7S 7S 7S 7S 8S 8S 8S 9S 9S 9S 9S Ea Ea Ea So So So So We We We No No No Re Re Re Re Gr Gr Gr Gr Wh Wh Wh Wh\n"
     ]
    }
   ],
   "source": [
    "import random\n",
    "\n",
    "\"\"\"Draw the starting hand and sort the tiles.\"\"\"\n",
    "\n",
    "tiles_to_draw = random.sample(live_tiles,14)\n",
    "\n",
    "held_tiles = []\n",
    "held_tiles = sorted(draw_tiles(held_tiles,live_tiles,tiles_to_draw))\n",
    "\n",
    "print(*held_tiles)\n",
    "print(*live_tiles)\n",
    "\n"
   ]
  },
  {
   "cell_type": "code",
   "execution_count": 20,
   "metadata": {},
   "outputs": [
    {
     "name": "stdout",
     "output_type": "stream",
     "text": [
      "4M 5M 8M 8M 9M 8P 8P 7S 9S Ea We No Wh Wh\n",
      "3M 6M 7M 8M 8P 8S Wh\n"
     ]
    }
   ],
   "source": [
    "\"\"\"Calculate tiles that will complete a sequence\"\"\"\n",
    "\n",
    "def find_waits(tiles):\n",
    "    waits = []\n",
    "\n",
    "    Man = [tile for tile in tiles if tile.suit == suits[0]]\n",
    "    Pin = [tile for tile in tiles if tile.suit == suits[1]]\n",
    "    Sou = [tile for tile in tiles if tile.suit == suits[2]]\n",
    "    honors = [tile for tile in tiles if tile.honor is not None]\n",
    "\n",
    "    for i in range(len(honors)-1):\n",
    "        tile = honors[i]\n",
    "        next_tile = honors[i+1]\n",
    "        \"\"\"Find pairs\"\"\"\n",
    "        if next_tile.honor == tile.honor:\n",
    "            waits.append(tile)\n",
    "\n",
    "    for suit in [Man, Pin, Sou]:\n",
    "        for i in range(len(suit)-1):\n",
    "            tile = suit[i]\n",
    "            next_tile = suit[i+1]\n",
    "\n",
    "            \"\"\"Find sequences of two\"\"\"\n",
    "            if next_tile.value == tile.value+1:\n",
    "                if tile.value > 1:\n",
    "                    waits.append(Tile(suit=tile.suit,value=tile.value-1))\n",
    "                if next_tile.value < 9:\n",
    "                    waits.append(Tile(suit=tile.suit,value=next_tile.value+1))\n",
    "\n",
    "            \"\"\"Find split sequences\"\"\"\n",
    "            if next_tile.value == tile.value+2:\n",
    "                waits.append(Tile(suit=tile.suit,value=tile.value+1))\n",
    "\n",
    "            \"\"\"Find pairs\"\"\"\n",
    "            if next_tile.value == tile.value:\n",
    "                waits.append(tile)\n",
    "\n",
    "    return sorted(set(waits))\n",
    "\n",
    "live_tiles = list(all_tiles)\n",
    "held_tiles = []\n",
    "tiles_to_draw = random.sample(live_tiles,14)\n",
    "held_tiles = sorted(draw_tiles(held_tiles,live_tiles,tiles_to_draw))\n",
    "waits = find_waits(held_tiles)\n",
    "\n",
    "print(*held_tiles)\n",
    "print(*waits)\n"
   ]
  },
  {
   "cell_type": "code",
   "execution_count": 21,
   "metadata": {},
   "outputs": [
    {
     "name": "stdout",
     "output_type": "stream",
     "text": [
      "3M 6M 7M 8M 8P 8S Wh\n",
      "0.18032786885245902\n"
     ]
    }
   ],
   "source": [
    "\"\"\"Calculate probability of drawing a tile that completes a sequence\"\"\"\n",
    "\n",
    "total_tiles = len(live_tiles)\n",
    "live_count = 0\n",
    "\n",
    "for tile in waits:\n",
    "    live_count += live_tiles.count(tile)\n",
    "\n",
    "prob = live_count/total_tiles\n",
    "\n",
    "print(*waits)\n",
    "print(prob)"
   ]
  },
  {
   "cell_type": "code",
   "execution_count": 111,
   "metadata": {},
   "outputs": [
    {
     "name": "stdout",
     "output_type": "stream",
     "text": [
      "1M 4M 7M 9M 1P 5P 6S 8S 8S No No Re Re Re\n",
      "Re Re Re\n"
     ]
    }
   ],
   "source": [
    "\"\"\"Shanten calculation\"\"\"\n",
    "\n",
    "def count_mentsu(tiles):\n",
    "    \n",
    "    mentsu_list = []\n",
    "\n",
    "\n",
    "    Man = [tile for tile in tiles if tile.suit == suits[0]]\n",
    "    Pin = [tile for tile in tiles if tile.suit == suits[1]]\n",
    "    Sou = [tile for tile in tiles if tile.suit == suits[2]]\n",
    "    honors = [tile for tile in tiles if tile.honor is not None]\n",
    "\n",
    "\n",
    "    \n",
    "    tiles_to_check = list(honors)\n",
    "    while len(tiles_to_check) > 2:\n",
    "        tile = tiles_to_check.pop(0)\n",
    "\n",
    "        \"\"\"Find triples\"\"\"\n",
    "        if tile.honor == tiles_to_check[0].honor and tile.honor == tiles_to_check[1].honor:\n",
    "            mentsu = [tile,tiles_to_check.pop(0),tiles_to_check.pop(0)]\n",
    "            mentsu_list.append(mentsu)\n",
    "\n",
    "    for suit in [Man, Pin, Sou]:\n",
    "        tiles_to_check = list(suit)\n",
    "        while len(tiles_to_check) > 2:\n",
    "            tile = tiles_to_check.pop(0)\n",
    "\n",
    "            \"\"\"Find sequences of three\"\"\"\n",
    "            if tile.value == tiles_to_check[0].value-1 and tile.value == tiles_to_check[1].value-2:\n",
    "                mentsu = [tile,tiles_to_check.pop(0),tiles_to_check.pop(0)]\n",
    "                mentsu_list.append(mentsu)\n",
    "\n",
    "                \"\"\"Find triples\"\"\"\n",
    "            elif tile.value == tiles_to_check[0].value and tile.value == tiles_to_check[1].value:\n",
    "                mentsu = [tile,tiles_to_check.pop(0),tiles_to_check.pop(0)]\n",
    "                mentsu_list.append(mentsu)\n",
    "\n",
    "    return mentsu_list\n",
    "\n",
    "\n",
    "live_tiles = list(all_tiles)\n",
    "held_tiles = []\n",
    "tiles_to_draw = random.sample(live_tiles,14)\n",
    "held_tiles = sorted(draw_tiles(held_tiles,live_tiles,tiles_to_draw))\n",
    "mentsu = count_mentsu(held_tiles)\n",
    "\n",
    "print(*held_tiles)\n",
    "for mentsu in mentsu:\n",
    "    print(*mentsu)\n"
   ]
  }
 ],
 "metadata": {
  "kernelspec": {
   "display_name": "base",
   "language": "python",
   "name": "python3"
  },
  "language_info": {
   "codemirror_mode": {
    "name": "ipython",
    "version": 3
   },
   "file_extension": ".py",
   "mimetype": "text/x-python",
   "name": "python",
   "nbconvert_exporter": "python",
   "pygments_lexer": "ipython3",
   "version": "3.10.9"
  },
  "orig_nbformat": 4
 },
 "nbformat": 4,
 "nbformat_minor": 2
}
